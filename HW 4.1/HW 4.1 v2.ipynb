{
 "cells": [
  {
   "cell_type": "code",
   "execution_count": 103,
   "metadata": {},
   "outputs": [],
   "source": [
    "import pandas as pd\n",
    "import re\n",
    "\n",
    "DATA_PATH = 'C:/Python/names/'"
   ]
  },
  {
   "cell_type": "code",
   "execution_count": 4,
   "metadata": {
    "collapsed": true
   },
   "outputs": [],
   "source": [
    "def get_user_years():\n",
    "    years = input('Введите года через запятую: ')\n",
    "    list_of_years = re.sub(' ', '', years).split(',')\n",
    "    return list_of_years\n",
    "\n",
    "def get_table(name='yob1980.txt', year='1980'):\n",
    "    table_of_names = pd.read_csv(\n",
    "        DATA_PATH + name, \n",
    "        names=['Name','Gender','Count']\n",
    "    )\n",
    "    return table_of_names"
   ]
  },
  {
   "cell_type": "code",
   "execution_count": 41,
   "metadata": {},
   "outputs": [
    {
     "name": "stdout",
     "output_type": "stream",
     "text": [
      "Введите года через запятую: 1900,1950\n",
      "James John Robert\n"
     ]
    }
   ],
   "source": [
    "def get_popular_names(): \n",
    "    all_names = None \n",
    "    for year in get_user_years(): \n",
    "        name = 'yob' + year + '.txt' \n",
    "        names = get_table(name, year) \n",
    "        all_names = pd.concat([all_names, names], names=['Name', 'Gender'])\n",
    "    \n",
    "    all_names_group = all_names.groupby('Name').sum().sort_values(by='Count', ascending=False)\n",
    "    return all_names_group.head(3)\n",
    "    \n",
    "pop_names = get_popular_names().get('Count').keys()\n",
    "\n",
    "print(*pop_names)"
   ]
  },
  {
   "cell_type": "code",
   "execution_count": 104,
   "metadata": {},
   "outputs": [
    {
     "name": "stdout",
     "output_type": "stream",
     "text": [
      "Введите года через запятую: 1900,1999\n",
      "          1900     1999\n",
      "Female  299810  1772978\n",
      "Male    150486  1919175\n"
     ]
    }
   ],
   "source": [
    "def get_dinamics(): \n",
    "    all_years = None \n",
    "    \n",
    "    dinamics = {}\n",
    "    for year in get_user_years(): \n",
    "        name = 'yob' + year + '.txt' \n",
    "        names = get_table(name, year)#.rename(columns={'Count': 'Count_' + year})\n",
    "\n",
    "        dinamics[year] = {'Female': None, 'Male': None}\n",
    "        dinamics[year]['Female'] = names[names.Gender=='F'].Count.sum()\n",
    "        dinamics[year]['Male'] = names[names.Gender=='M'].Count.sum()\n",
    "        \n",
    "        dinamics_table = pd.DataFrame(dinamics)\n",
    "\n",
    "    return dinamics_table\n",
    "\n",
    "print(get_dinamics())"
   ]
  }
 ],
 "metadata": {
  "kernelspec": {
   "display_name": "Python 3",
   "language": "python",
   "name": "python3"
  },
  "language_info": {
   "codemirror_mode": {
    "name": "ipython",
    "version": 3.0
   },
   "file_extension": ".py",
   "mimetype": "text/x-python",
   "name": "python",
   "nbconvert_exporter": "python",
   "pygments_lexer": "ipython3",
   "version": "3.6.1"
  }
 },
 "nbformat": 4,
 "nbformat_minor": 0
}